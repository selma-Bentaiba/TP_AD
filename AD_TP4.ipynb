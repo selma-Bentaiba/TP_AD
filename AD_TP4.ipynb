{
 "cells": [
  {
   "cell_type": "markdown",
   "id": "b443a61a-b8ed-4d47-b063-b052dd39a251",
   "metadata": {
    "jp-MarkdownHeadingCollapsed": true
   },
   "source": [
    "## What to do in this TP in a nutshell"
   ]
  },
  {
   "cell_type": "markdown",
   "id": "19be4217-8480-4ce1-956f-031c6f88ac46",
   "metadata": {},
   "source": [
    "This TP involves performing **ACP** (Analyse en Composantes Principales - Principal Component Analysis, PCA)\n",
    "on a dataset that records the percentage of young people practicing different sports across 20 cities.\n",
    "\n",
    "***The objective is to:***\n",
    "\n",
    "-   Perform PCA (ACPN): Extract the main components that explain the variance in the data.\n",
    "-   Visualize the Data in 2D: Project the dataset onto a 2D plane for interpretation.\n",
    "-   Analyze the Proximities: Understand how close different cities are based on their sports practice patterns.\n",
    "- Interpret Principal Axes: Explain what each principal component represents in the context of the dataset."
   ]
  },
  {
   "cell_type": "markdown",
   "id": "1861ff7e-1396-4074-8631-ef7084050c44",
   "metadata": {},
   "source": [
    "## Question 1: Perform PCA"
   ]
  },
  {
   "cell_type": "code",
   "execution_count": 1,
   "id": "eb0577ab-9647-47bd-a10a-aa7f19f1f734",
   "metadata": {},
   "outputs": [],
   "source": [
    "import numpy as np\n",
    "import matplotlib.pyplot as plt\n"
   ]
  },
  {
   "cell_type": "code",
   "execution_count": 30,
   "id": "c31898af-1784-4374-92d1-473195452fa4",
   "metadata": {},
   "outputs": [],
   "source": [
    "# Chargement des données\n",
    "data = np.array([\n",
    "        [1881.9, 96.8, 14.2, 25.2, 1135.5, 278.3],\n",
    "        [3369.8, 96.8, 10.8, 51.6, 1331.7, 284.0],\n",
    "        [4467.4, 138.2, 9.5, 34.2, 2346.1, 312.3],\n",
    "        [1862.1, 83.2, 8.8, 27.6, 972.6, 203.4],\n",
    "        [3499.8, 287.0, 11.5, 49.4, 2139.4, 358.0],\n",
    "        [3903.2, 170.7, 6.3, 42.0, 1935.2, 292.9],\n",
    "        [2620.7, 129.5, 4.2, 16.8, 1346.0, 131.8],\n",
    "        [3678.4, 157.0, 6.0, 24.9, 1682.6, 194.2],\n",
    "        [3840.5, 187.9, 10.2, 39.6, 1859.9, 449.1],\n",
    "        [2170.2, 140.5, 11.7, 31.1, 1351.1, 256.5],\n",
    "        [3920.4, 128.0, 7.2, 25.5, 1911.5, 64.1],\n",
    "        [2599.6, 39.6, 5.5, 19.4, 1050.8, 172.5],\n",
    "        [2828.5, 211.3, 9.9, 21.8, 1085.0, 209.0],\n",
    "        [2498.7, 123.2, 7.4, 26.5, 1086.2, 153.5],\n",
    "        [2685.1, 41.2, 2.3, 10.6, 812.5, 89.8],\n",
    "        [2739.3, 100.7, 6.6, 22.0, 1270.4, 180.5],\n",
    "        [1662.1, 81.1, 10.1, 19.1, 872.2, 123.3],\n",
    "        [2469.9, 142.9, 15.5, 30.9, 1165.5, 335.5],\n",
    "        [2350.7, 38.7, 2.4, 13.5, 1253.1, 170.0],\n",
    "        [3177.7, 292.1, 8.0, 34.8, 1400.0, 358.9]\n",
    "    ])\n"
   ]
  },
  {
   "cell_type": "markdown",
   "id": "bbf9a819-5707-40f7-ae0e-dc198fab7a76",
   "metadata": {},
   "source": [
    "### ACPN 1- Standardisation des données"
   ]
  },
  {
   "cell_type": "code",
   "execution_count": 31,
   "id": "9437bb02-2be8-4651-a654-cb481e2712d7",
   "metadata": {},
   "outputs": [
    {
     "name": "stdout",
     "output_type": "stream",
     "text": [
      "Moyenne :\n",
      " [2911.3    134.32     8.405   28.325 1400.365  230.88 ]\n"
     ]
    }
   ],
   "source": [
    "mean = np.mean(data, axis=0)\n",
    "print(\"Moyenne :\\n\", mean)\n"
   ]
  },
  {
   "cell_type": "code",
   "execution_count": 32,
   "id": "4b3d80dd-3ff6-4263-a9e6-e51db08bf7ed",
   "metadata": {},
   "outputs": [
    {
     "name": "stdout",
     "output_type": "stream",
     "text": [
      "Écart-type :\n",
      " [765.56337425  69.04051419   3.43022958  10.81257948 423.11885242\n",
      "  98.65230661]\n"
     ]
    }
   ],
   "source": [
    "\n",
    "std = np.std(data, axis=0)\n",
    "print(\"Écart-type :\\n\", std)\n",
    "\n"
   ]
  },
  {
   "cell_type": "code",
   "execution_count": 33,
   "id": "3134ff0a-92e8-48c2-be7c-fee017c8233c",
   "metadata": {},
   "outputs": [
    {
     "name": "stdout",
     "output_type": "stream",
     "text": [
      "Données standardisées :\n",
      " [[-1.34463068e+00 -5.43449023e-01  1.68939130e+00 -2.89015217e-01\n",
      "  -6.25982507e-01  4.80678067e-01]\n",
      " [ 5.98905349e-01 -5.43449023e-01  6.98203995e-01  2.15258533e+00\n",
      "  -1.62283008e-01  5.38456746e-01]\n",
      " [ 2.03262075e+00  5.61988862e-02  3.19220616e-01  5.43348607e-01\n",
      "   2.23515212e+00  8.25322821e-01]\n",
      " [-1.37049399e+00 -7.40434810e-01  1.15152642e-01 -6.70515302e-02\n",
      "  -1.01098072e+00 -2.78554055e-01]\n",
      " [ 7.68714936e-01  2.21145514e+00  9.02271969e-01  1.94911862e+00\n",
      "   1.74663690e+00  1.28856592e+00]\n",
      " [ 1.29564714e+00  5.26936979e-01 -6.13661549e-01  1.26473059e+00\n",
      "   1.26403018e+00  6.28672579e-01]\n",
      " [-3.79589737e-01 -6.98140803e-02 -1.22586547e+00 -1.06588812e+00\n",
      "  -1.28486357e-01 -1.00433536e+00]\n",
      " [ 1.00200718e+00  3.28502768e-01 -7.01119252e-01 -3.16760677e-01\n",
      "   6.67034802e-01 -3.71810871e-01]\n",
      " [ 1.21374667e+00  7.76066062e-01  5.23288589e-01  1.04276690e+00\n",
      "   1.08606600e+00  2.21201113e+00]\n",
      " [-9.68045266e-01  8.95126589e-02  9.60577104e-01  2.56645512e-01\n",
      "  -1.16433006e-01  2.59699959e-01]\n",
      " [ 1.31811426e+00 -9.15404538e-02 -3.51288440e-01 -2.61269756e-01\n",
      "   1.20801755e+00 -1.69058389e+00]\n",
      " [-4.07151139e-01 -1.37194807e+00 -8.46882090e-01 -8.25427459e-01\n",
      "  -8.26162668e-01 -5.91775317e-01]\n",
      " [-1.08155644e-01  1.11499749e+00  4.35830886e-01 -6.03463772e-01\n",
      "  -7.45334315e-01 -2.21789036e-01]\n",
      " [-5.38949503e-01 -1.61064849e-01 -2.92983305e-01 -1.68784886e-01\n",
      "  -7.42498232e-01 -7.84370915e-01]\n",
      " [-2.95468680e-01 -1.34877327e+00 -1.77976425e+00 -1.63929431e+00\n",
      "  -1.38936140e+00 -1.43007300e+00]\n",
      " [-2.24671145e-01 -4.86960452e-01 -5.26203846e-01 -5.84966798e-01\n",
      "  -3.07159559e-01 -5.10682433e-01]\n",
      " [-1.63173950e+00 -7.70851733e-01  4.94136022e-01 -8.53172919e-01\n",
      "  -1.24826629e+00 -1.09049655e+00]\n",
      " [-5.76568857e-01  1.24274857e-01  2.06837467e+00  2.38148538e-01\n",
      "  -5.55080443e-01  1.06049218e+00]\n",
      " [-7.32271186e-01 -1.38498389e+00 -1.75061169e+00 -1.37108819e+00\n",
      "  -3.48046416e-01 -6.17116843e-01]\n",
      " [ 3.47979030e-01  2.28532481e+00 -1.18067899e-01  5.98839529e-01\n",
      "  -8.62641780e-04  1.29768887e+00]]\n"
     ]
    }
   ],
   "source": [
    "standardized_data = (data - mean) / std\n",
    "print(\"Données standardisées :\\n\", standardized_data)\n"
   ]
  },
  {
   "cell_type": "markdown",
   "id": "c6f0532d-73c1-49ad-a23f-bd9131e543a7",
   "metadata": {},
   "source": [
    "### ACPN 2- Calcul de la matrice de covariance"
   ]
  },
  {
   "cell_type": "code",
   "execution_count": 42,
   "id": "2db6e3b6-641f-4d19-9dc1-abd9b4106a5d",
   "metadata": {},
   "outputs": [
    {
     "name": "stdout",
     "output_type": "stream",
     "text": [
      "Matrice de covariance :\n",
      " [[ 1.05263158  0.4755574  -0.11143438  0.54455017  0.9106414   0.37108613]\n",
      " [ 0.4755574   1.05263158  0.37206672  0.6214819   0.55789468  0.6517632 ]\n",
      " [-0.11143438  0.37206672  1.05263158  0.56247457  0.10629788  0.61678663]\n",
      " [ 0.54455017  0.6214819   0.56247457  1.05263158  0.62912388  0.78953099]\n",
      " [ 0.9106414   0.55789468  0.10629788  0.62912388  1.05263158  0.49267867]\n",
      " [ 0.37108613  0.6517632   0.61678663  0.78953099  0.49267867  1.05263158]]\n"
     ]
    }
   ],
   "source": [
    "# Compute Covariance Matrix\n",
    "#correlation matrix normalement \n",
    "# but Cov(Standardized Data)=Corr(Original Data)\n",
    "cov_matrix = np.cov(standardized_data, rowvar=False)\n",
    "print(\"Matrice de covariance :\\n\", cov_matrix)\n"
   ]
  },
  {
   "cell_type": "code",
   "execution_count": 44,
   "id": "088b23f1-4edd-4fb8-a38e-01a7ef93cf50",
   "metadata": {},
   "outputs": [
    {
     "name": "stdout",
     "output_type": "stream",
     "text": [
      "Matrice de corrélation :\n",
      " [[ 1.          0.45177953 -0.10586266  0.51732267  0.86510933  0.35253182]\n",
      " [ 0.45177953  1.          0.35346338  0.59040781  0.52999994  0.61917504]\n",
      " [-0.10586266  0.35346338  1.          0.53435084  0.10098298  0.58594729]\n",
      " [ 0.51732267  0.59040781  0.53435084  1.          0.59766768  0.75005444]\n",
      " [ 0.86510933  0.52999994  0.10098298  0.59766768  1.          0.46804473]\n",
      " [ 0.35253182  0.61917504  0.58594729  0.75005444  0.46804473  1.        ]]\n"
     ]
    }
   ],
   "source": [
    "#this can be step 2 -> apply ACPN \"pure\"\n",
    "#do it directly with correlation matrix \n",
    "#in this case we wouldn't do standarisation to the data\n",
    "corr_matrix = np.corrcoef(data, rowvar=False)\n",
    "print(\"Matrice de corrélation :\\n\", corr_matrix)\n",
    "#we see its similiar "
   ]
  },
  {
   "cell_type": "markdown",
   "id": "edd84909-fbeb-4374-a6ec-64e3988de56c",
   "metadata": {},
   "source": [
    "### ACPN 3- Calcul des valeurs et vecteurs propres\n",
    "**eigenvalues & eigenvectors**"
   ]
  },
  {
   "cell_type": "code",
   "execution_count": 38,
   "id": "b46243b3-b0b6-40c3-a1ce-1a68afa58efe",
   "metadata": {},
   "outputs": [],
   "source": [
    "\n",
    "eigenvalues, eigenvectors = np.linalg.eig(cov_matrix)\n",
    "idx = np.argsort(eigenvalues)[::-1]\n",
    "eigenvalues = eigenvalues[idx]\n",
    "eigenvectors = eigenvectors[:, idx]\n",
    "\n"
   ]
  },
  {
   "cell_type": "code",
   "execution_count": 39,
   "id": "55313089-6b7b-46ed-b242-c26346925abb",
   "metadata": {},
   "outputs": [
    {
     "name": "stdout",
     "output_type": "stream",
     "text": [
      "Valeurs propres : [3.66940064 1.49668738 0.49766724 0.30982807 0.23017436 0.11203178]\n"
     ]
    }
   ],
   "source": [
    "print(\"Valeurs propres :\", eigenvalues)\n"
   ]
  },
  {
   "cell_type": "code",
   "execution_count": 40,
   "id": "37b4d413-55ab-4cf6-bea4-5182680931f8",
   "metadata": {},
   "outputs": [
    {
     "name": "stdout",
     "output_type": "stream",
     "text": [
      "Vecteurs propres :\n",
      " [[-0.37667495 -0.55325519 -0.16860395 -0.06640164  0.04117336  0.71936984]\n",
      " [-0.4218529   0.0450971   0.87566371 -0.18541466 -0.1369152   0.00975098]\n",
      " [-0.26835769  0.6488797  -0.26861114 -0.59881631  0.15006166  0.23170643]\n",
      " [-0.4740738   0.13491973 -0.30136513  0.24473498 -0.76433206 -0.14876508]\n",
      " [-0.42981671 -0.41195462 -0.20436365 -0.33583392  0.29098675 -0.63743924]\n",
      " [-0.44570382  0.28795858 -0.00695597  0.65570696  0.53680881  0.01625604]]\n"
     ]
    }
   ],
   "source": [
    "print(\"Vecteurs propres :\\n\", eigenvectors)\n"
   ]
  },
  {
   "cell_type": "markdown",
   "id": "01b5c208-0e44-45a6-b8d3-ac9f85d0f4e0",
   "metadata": {},
   "source": [
    "### ACPN 4 - Projection des données sur les composantes principales"
   ]
  },
  {
   "cell_type": "code",
   "execution_count": 41,
   "id": "e0c186b8-f335-4ce6-a685-6b22c7b37c9c",
   "metadata": {},
   "outputs": [
    {
     "name": "stdout",
     "output_type": "stream",
     "text": [
      "Données projetées :\n",
      " [[ 0.47421533  2.17292554]\n",
      " [-1.3744301   0.60952764]\n",
      " [-2.46115288 -1.52470179]\n",
      " [ 1.38815961  1.12678123]\n",
      " [-3.71367458  0.17439369]\n",
      " [-1.96872562 -1.26030699]\n",
      " [ 1.50957496 -0.96866341]\n",
      " [-0.29867735 -1.41908466]\n",
      " [-2.87206179  0.03328554]\n",
      " [-0.11827435  1.3202863 ]\n",
      " [-0.00547835 -1.98104269]\n",
      " [ 1.96955979 -0.3275687 ]\n",
      " [ 0.15871175  0.55468133]\n",
      " [ 1.09833052  0.15803896]\n",
      " [ 3.16959921 -1.11283017]\n",
      " [ 1.06821737 -0.33854617]\n",
      " [ 2.23424734  1.27374136]\n",
      " [-0.73729346  2.2328972 ]\n",
      " [ 2.40452228 -1.01257392]\n",
      " [-1.92536969  0.28875974]]\n"
     ]
    }
   ],
   "source": [
    "top_eigenvectors = eigenvectors[:, idx[:2]]\n",
    "projected_data = standardized_data @ top_eigenvectors\n",
    "print(\"Données projetées :\\n\", projected_data)\n"
   ]
  },
  {
   "cell_type": "markdown",
   "id": "f906a734-8fad-411b-b06e-36003ae63775",
   "metadata": {
    "jp-MarkdownHeadingCollapsed": true
   },
   "source": [
    "## Question 2: Visualize PCA in 2D\n"
   ]
  },
  {
   "cell_type": "code",
   "execution_count": 19,
   "id": "33d6afc2-fe26-40b2-8388-864230d28d9c",
   "metadata": {},
   "outputs": [
    {
     "data": {
      "image/png": "[encoded data removed]",
      "text/plain": [
       "<Figure size 800x600 with 1 Axes>"
      ]
     },
     "metadata": {},
     "output_type": "display_data"
    }
   ],
   "source": [
    "# Perform PCA\n",
    "plt.figure(figsize=(8, 6))\n",
    "plt.scatter(projected_data[:, 0], projected_data[:, 1], c='b', marker='o')\n",
    "for i in range(len(projected_data)):\n",
    "    plt.text(projected_data[i, 0], projected_data[i, 1], f'V{i+1}', fontsize=9)\n",
    "plt.xlabel('Principal Component 1')\n",
    "plt.ylabel('Principal Component 2')\n",
    "plt.title('PCA Projection (2D)')\n",
    "plt.grid()\n",
    "plt.show()\n"
   ]
  },
  {
   "cell_type": "markdown",
   "id": "d7ae978a-b158-48a4-ba04-997324c69f55",
   "metadata": {
    "jp-MarkdownHeadingCollapsed": true
   },
   "source": [
    "## Question 3: Analyze Proximities"
   ]
  },
  {
   "cell_type": "code",
   "execution_count": 20,
   "id": "12363a7c-1f6a-455a-ab93-f3dc13dacb40",
   "metadata": {},
   "outputs": [
    {
     "name": "stdout",
     "output_type": "stream",
     "text": [
      "Distance Matrix:\n",
      " [[0.         2.4210954  4.72110522 1.38914077 4.64031804 4.21367371\n",
      "  3.30780149 3.67422106 3.97185472 1.03828594 4.18157364 2.9135076\n",
      "  1.64871369 2.10933347 4.24985704 2.58076125 1.97642224 1.21299223\n",
      "  3.72471364 3.0509161 ]\n",
      " [2.4210954  0.         2.39497425 2.81059659 2.37937099 1.9620063\n",
      "  3.28757847 2.29619508 1.60466683 1.44329662 2.93003132 3.47281125\n",
      "  1.53412257 2.51364021 4.85949779 2.62018523 3.66929595 1.74392426\n",
      "  4.11238307 0.63751586]\n",
      " [4.72110522 2.39497425 0.         4.6741383  2.11086145 0.5589179\n",
      "  4.00947108 2.16505322 1.61126368 3.68551721 2.49771584 4.58959067\n",
      "  3.34477576 3.93719933 5.64579555 3.72336133 5.46608337 4.13415547\n",
      "  4.89255248 1.89095382]\n",
      " [1.38914077 2.81059659 4.6741383  0.         5.18996668 4.11908589\n",
      "  2.09895925 3.05398953 4.39832004 1.51881121 3.40599416 1.56625665\n",
      "  1.35603847 1.01116887 2.86171037 1.49984913 0.85875592 2.39604743\n",
      "  2.36850871 3.41785845]\n",
      " [4.64031804 2.37937099 2.11086145 5.18996668 0.         2.2590292\n",
      "  5.34686033 3.76847176 0.85336019 3.77358884 4.28912873 5.70535882\n",
      "  3.8910146  4.8120329  7.00259976 4.80932407 6.04866436 3.61887846\n",
      "  6.23227286 1.79195815]\n",
      " [4.21367371 1.9620063  0.5589179  4.11908589 2.2590292  0.\n",
      "  3.49050582 1.67757908 1.57778258 3.17547345 2.09136314 4.04723272\n",
      "  2.79645711 3.37913282 5.14044078 3.17374633 4.90778797 3.70390344\n",
      "  4.38025899 1.54967335]\n",
      " [3.30780149 3.28757847 4.00947108 2.09895925 5.34686033 3.49050582\n",
      "  0.         1.8635063  4.49473496 2.80876915 1.82216858 0.78904276\n",
      "  2.03602815 1.19940828 1.66627265 0.76931415 2.35659272 3.91131794\n",
      "  0.8960239  3.65786246]\n",
      " [3.67422106 2.29619508 2.16505322 3.05398953 3.76847176 1.67757908\n",
      "  1.8635063  0.         2.95494275 2.74530481 0.63384736 2.51720218\n",
      "  2.02606934 2.10688156 3.48177169 1.74240196 3.69689322 3.67822723\n",
      "  2.73359456 2.3585717 ]\n",
      " [3.97185472 1.60466683 1.61126368 4.39832004 0.85336019 1.57778258\n",
      "  4.49473496 2.95494275 0.         3.03969015 3.50354375 4.8550505\n",
      "  3.07529541 3.97235176 6.14941044 3.95778457 5.25481909 3.06521243\n",
      "  5.37923428 0.9805575 ]\n",
      " [1.03828594 1.44329662 3.68551721 1.51881121 3.77358884 3.17547345\n",
      "  2.80876915 2.74530481 3.03969015 0.         3.30325537 2.659789\n",
      "  0.81416968 1.68254161 4.09025284 2.03948223 2.3529821  1.10274354\n",
      "  3.43609366 2.08077885]\n",
      " [4.18157364 2.93003132 2.49771584 3.40599416 4.28912873 2.09136314\n",
      "  1.82216858 0.63384736 3.50354375 3.30325537 0.         2.57580122\n",
      "  2.54103418 2.40708627 3.29164252 1.96229899 3.95094804 4.27701329\n",
      "  2.59731299 2.97287501]\n",
      " [2.9135076  3.47281125 4.58959067 1.56625665 5.70535882 4.04723272\n",
      "  0.78904276 2.51720218 4.8550505  2.659789   2.57580122 0.\n",
      "  2.01433258 0.9974243  1.43413046 0.90140927 1.62303833 3.72599519\n",
      "  0.81143362 3.94339149]\n",
      " [1.64871369 1.53412257 3.34477576 1.35603847 3.8910146  2.79645711\n",
      "  2.03602815 2.02606934 3.07529541 0.81416968 2.54103418 2.01433258\n",
      "  0.         1.01990617 3.44180735 1.27477678 2.19656444 1.90242841\n",
      "  2.73860437 2.10097828]\n",
      " [2.10933347 2.51364021 3.93719933 1.01116887 4.8120329  3.37913282\n",
      "  1.19940828 2.10688156 3.97235176 1.68254161 2.40708627 0.9974243\n",
      "  1.01990617 0.         2.43007455 0.49749733 1.59219938 2.7702982\n",
      "  1.75398729 3.02652456]\n",
      " [4.24985704 4.85949779 5.64579555 2.86171037 7.00259976 5.14044078\n",
      "  1.66627265 3.48177169 6.14941044 4.09025284 3.29164252 1.43413046\n",
      "  3.44180735 2.43007455 0.         2.23949131 2.56331949 5.14370508\n",
      "  0.7716178  5.28423716]\n",
      " [2.58076125 2.62018523 3.72336133 1.49984913 4.80932407 3.17374633\n",
      "  0.76931415 1.74240196 3.95778457 2.03948223 1.96229899 0.90140927\n",
      "  1.27477678 0.49749733 2.23949131 0.         1.98974797 3.1420042\n",
      "  1.49667104 3.05860691]\n",
      " [1.97642224 3.66929595 5.46608337 0.85875592 6.04866436 4.90778797\n",
      "  2.35659272 3.69689322 5.25481909 2.3529821  3.95094804 1.62303833\n",
      "  2.19656444 1.59219938 2.56331949 1.98974797 0.         3.12250455\n",
      "  2.29264719 4.2746465 ]\n",
      " [1.21299223 1.74392426 4.13415547 2.39604743 3.61887846 3.70390344\n",
      "  3.91131794 3.67822723 3.06521243 1.10274354 4.27701329 3.72599519\n",
      "  1.90242841 2.7702982  5.14370508 3.1420042  3.12250455 0.\n",
      "  4.51708854 2.27841953]\n",
      " [3.72471364 4.11238307 4.89255248 2.36850871 6.23227286 4.38025899\n",
      "  0.8960239  2.73359456 5.37923428 3.43609366 2.59731299 0.81143362\n",
      "  2.73860437 1.75398729 0.7716178  1.49667104 2.29264719 4.51708854\n",
      "  0.         4.52122038]\n",
      " [3.0509161  0.63751586 1.89095382 3.41785845 1.79195815 1.54967335\n",
      "  3.65786246 2.3585717  0.9805575  2.08077885 2.97287501 3.94339149\n",
      "  2.10097828 3.02652456 5.28423716 3.05860691 4.2746465  2.27841953\n",
      "  4.52122038 0.        ]]\n"
     ]
    }
   ],
   "source": [
    "distances = np.linalg.norm(projected_data[:, None] - projected_data, axis=2)\n",
    "print(\"Distance Matrix:\\n\", distances)\n"
   ]
  },
  {
   "cell_type": "code",
   "execution_count": null,
   "id": "3c8ac7cc-6ae6-4caf-af5c-cfbbb461b143",
   "metadata": {},
   "outputs": [],
   "source": []
  },
  {
   "cell_type": "markdown",
   "id": "a78754b1-bd37-49e8-9090-c08351b3d13c",
   "metadata": {
    "jp-MarkdownHeadingCollapsed": true
   },
   "source": [
    "## Question 4: Interpret Principal Axes\n"
   ]
  },
  {
   "cell_type": "code",
   "execution_count": 23,
   "id": "aa6e7ca3-93c7-4e56-a58c-e2d77a0691bf",
   "metadata": {},
   "outputs": [
    {
     "name": "stdout",
     "output_type": "stream",
     "text": [
      "Principal Component 1 direction:\n",
      " [-0.37667495 -0.4218529  -0.26835769 -0.4740738  -0.42981671 -0.44570382]\n",
      "\n",
      "Principal Component 2 direction:\n",
      " [-0.55325519  0.0450971   0.6488797   0.13491973 -0.41195462  0.28795858]\n",
      "\n"
     ]
    }
   ],
   "source": [
    "for i, vector in enumerate(top_eigenvectors.T):\n",
    "    print(f\"Principal Component {i+1} direction:\\n {vector}\\n\")\n"
   ]
  },
  {
   "attachments": {
    "da96a6c3-3cb9-472e-b13e-4aef49aea6ce.png": {
     "image/png": "[encoded data removed]"
    }
   },
   "cell_type": "markdown",
   "id": "7ab282c7-b4be-491d-890a-d5f63cd6c47e",
   "metadata": {},
   "source": [
    "### Composante Principale 1 (CP1)\n",
    "![image.png](attachment:da96a6c3-3cb9-472e-b13e-4aef49aea6ce.png)\n",
    "\n",
    "-   Toutes les valeurs sont négatives (-) et proches en magnitude.\n",
    "-   Cela suggère que CP1 capture une tendance générale dans tous les sports -> les villes où un sport est plus pratiqué ont généralement ***une forte participation*** dans tous les sports.\n",
    "-   Les variables les plus influentes (**valeurs absolues les plus élevées**) sont : \n",
    "  -   Gymnastique (-0.4741),\n",
    "  -   Handball (-0.4457)\n",
    "  -   Basketball (-0.4298).\n"
   ]
  },
  {
   "cell_type": "markdown",
   "id": "70dccd4a-5418-404e-856e-746e96e89ea3",
   "metadata": {},
   "source": [
    "***interprétation :***\n",
    "CP1 représente un facteur d'engagement sportif global ::\n",
    "    -> des valeurs élevées de CP1 correspondent aux villes où la participation sportive est généralement élevée !!\n",
    "    -> des valeurs faibles indiquent des villes où la pratique du sport est plus limitée."
   ]
  },
  {
   "attachments": {
    "9980ea86-7a1f-433e-9c1b-fb037721b3ad.png": {
     "image/png": "[encoded data removed]"
    }
   },
   "cell_type": "markdown",
   "id": "59c98889-ccea-461f-ae3c-78f78c283b18",
   "metadata": {},
   "source": [
    "### Composante Principale 2 (CP2)\n",
    "![image.png](attachment:9980ea86-7a1f-433e-9c1b-fb037721b3ad.png)\n",
    "\n",
    "CP2 contient des valeurs \"positives et négatives\" -> un contraste entre les différents sports .\n",
    "-  Le Football (-0.5533) et le Basketball (-0.4119) ont des contributions négatives (-).\n",
    "-  le Tennis (0.6489) est le sport ayant la plus forte contribution positive."
   ]
  },
  {
   "cell_type": "markdown",
   "id": "0dc39024-a806-4d4a-a49c-a7b28d922f47",
   "metadata": {},
   "source": [
    "### Interprétation\n",
    "\n",
    "CP2 met en évidence un contraste entre **les sports collectifs** (Football, Basketball, Handball) et **les sports individuels** (Tennis, Gymnastique, Natation).\n",
    "\n",
    "-   Les villes ayant une valeur élevée sur CP2 privilégient le Tennis et la Gymnastique. (les sports collectifs)\n",
    "-   Les villes ayant une valeur faible sur CP2 pratiquent davantage le Football et le Basketball (les sports individuels)"
   ]
  }
 ],
 "metadata": {
  "kernelspec": {
   "display_name": "Python 3 (ipykernel)",
   "language": "python",
   "name": "python3"
  },
  "language_info": {
   "codemirror_mode": {
    "name": "ipython",
    "version": 3
   },
   "file_extension": ".py",
   "mimetype": "text/x-python",
   "name": "python",
   "nbconvert_exporter": "python",
   "pygments_lexer": "ipython3",
   "version": "3.11.7"
  }
 },
 "nbformat": 4,
 "nbformat_minor": 5
}
